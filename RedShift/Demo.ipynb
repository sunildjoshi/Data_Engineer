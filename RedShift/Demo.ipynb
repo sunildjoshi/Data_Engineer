{
 "cells": [
  {
   "cell_type": "code",
   "execution_count": 1,
   "metadata": {
    "editable": true
   },
   "outputs": [],
   "source": [
    "%run create_tables.py"
   ]
  },
  {
   "cell_type": "code",
   "execution_count": 2,
   "metadata": {
    "editable": true
   },
   "outputs": [
    {
     "name": "stdout",
     "output_type": "stream",
     "text": [
      "INSERT INTO songplays\n",
      "                           (start_time,user_id,level,song_id,artist_id,session_id,location,user_agent)\n",
      "                           SELECT DISTINCT TIMESTAMP 'epoch' + (e.ts / 1000) * INTERVAL '1 second' as start_time, \n",
      "                           e.userId, e.level, \n",
      "                           s.song_id, a.artist_id, \n",
      "                           e.sessionId, e.location, e.userAgent \n",
      "                           FROM stagging_events e LEFT JOIN (\n",
      "                               SELECT * FROM (\n",
      "                                   SELECT title, song_id, row_number () OVER\n",
      "                                   (PARTITION BY title) AS rownum FROM songs) groups\n",
      "                                   WHERE groups.rownum = 1) s\n",
      "                           ON (e.song=s.title) LEFT JOIN (\n",
      "                               SELECT * FROM (\n",
      "                                    SELECT name, artist_id, ROW_NUMBER () OVER\n",
      "                                    (PARTITION BY name) AS rownum FROM artists) groups\n",
      "                                    WHERE groups.rownum = 1) a\n",
      "                           ON (e.artist=a.name);\n",
      "INSERT INTO users (user_id,first_name,last_name,gender,level)\n",
      "                       SELECT userId, firstName, lastName, gender, level \n",
      "                       FROM ( \n",
      "                           SELECT userId, firstName, lastName, gender, level,ts,\n",
      "                           ROW_NUMBER () OVER \n",
      "                           (PARTITION BY userId ORDER BY ts DESC) AS rownum\n",
      "                            FROM stagging_events) groups\n",
      "                       WHERE groups.rownum = 1;\n",
      "INSERT INTO songs (song_id,title,artist_id,year,duration)\n",
      "                       SELECT song_id, title, artist_id, year, duration \n",
      "                       FROM (\n",
      "                            SELECT song_id, title, artist_id, year, duration, \n",
      "                            ROW_NUMBER () OVER (PARTITION BY song_id) AS rownum\n",
      "                            FROM stagging_songs) groups\n",
      "                       WHERE groups.rownum = 1;\n",
      "INSERT INTO artists (artist_id,name,location,latitude,longitude)\n",
      "                         SELECT artist_id, artist_name, artist_location, artist_latitude, artist_longitude \n",
      "                         FROM (\n",
      "                             SELECT artist_id, artist_name, artist_location, artist_latitude, artist_longitude, \n",
      "                             ROW_NUMBER () OVER (PARTITION BY artist_id) AS rownum\n",
      "                             FROM stagging_songs) groups\n",
      "                         WHERE groups.rownum = 1;\n",
      "INSERT INTO time (start_time, hour, day, week, month, year, weekday) \n",
      "                       SELECT start_time, \n",
      "                       EXTRACT(HOUR FROM start_time),\n",
      "                       EXTRACT(DAY FROM start_time), \n",
      "                       EXTRACT(WEEKS FROM start_time),\n",
      "                       EXTRACT(MONTH FROM start_time),\n",
      "                       EXTRACT(YEAR FROM start_time),\n",
      "                       to_char(start_time, 'Day')\n",
      "                       FROM (\n",
      "                           SELECT DISTINCT TIMESTAMP 'epoch' + (ts / 1000) * INTERVAL '1 second' as start_time \n",
      "                           FROM stagging_events) t;\n"
     ]
    }
   ],
   "source": [
    "%run etl.py"
   ]
  }
 ],
 "metadata": {
  "kernelspec": {
   "display_name": "Python 3",
   "language": "python",
   "name": "python3"
  },
  "language_info": {
   "codemirror_mode": {
    "name": "ipython",
    "version": 3
   },
   "file_extension": ".py",
   "mimetype": "text/x-python",
   "name": "python",
   "nbconvert_exporter": "python",
   "pygments_lexer": "ipython3",
   "version": "3.6.3"
  }
 },
 "nbformat": 4,
 "nbformat_minor": 4
}
